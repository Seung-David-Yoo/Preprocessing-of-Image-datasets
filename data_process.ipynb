{
 "cells": [
  {
   "cell_type": "markdown",
   "id": "b5a7cbdd",
   "metadata": {},
   "source": [
    "## Data 270 Group 2\n",
    "## Data Process"
   ]
  },
  {
   "cell_type": "code",
   "execution_count": 1,
   "id": "ee6e33b6",
   "metadata": {},
   "outputs": [],
   "source": [
    "# make sure to install cv2 package first by running below command\n",
    "# pip3 install opencv-python\n",
    "import cv2\n",
    "import os\n",
    "import numpy as np\n",
    "from PIL import Image as im\n",
    "from sklearn.decomposition import IncrementalPCA"
   ]
  },
  {
   "cell_type": "code",
   "execution_count": 2,
   "id": "111bed8a",
   "metadata": {},
   "outputs": [],
   "source": [
    "# define paths and filename\n",
    "CUR_DIR = './'\n",
    "JAFFE_DIR = CUR_DIR + 'jaffe'\n",
    "CKP_DIR = CUR_DIR + 'ck+'\n",
    "FACE_CASCADE_FILE = CUR_DIR + 'haarcascade_frontalface_default.xml'\n",
    "PROCESSED_DATA_FILE = CUR_DIR + 'processed_data'"
   ]
  },
  {
   "cell_type": "markdown",
   "id": "d54d2d66",
   "metadata": {},
   "source": [
    "#### NE = neutral = 0; HA = happiness = 1; AN = angry = 2; DI = disgust = 3; FE = fear = 4; SA = sadness = 5; SU = surprise = 6; CO = contempt = 7; anything else = N/A = -1"
   ]
  },
  {
   "cell_type": "code",
   "execution_count": 3,
   "id": "26f77be8",
   "metadata": {},
   "outputs": [],
   "source": [
    "LABEL_CODE = {\n",
    "    'NE': 0,\n",
    "    'HA': 1,\n",
    "    'AN': 2,\n",
    "    'DI': 3,\n",
    "    'FE': 4,\n",
    "    'SA': 5,\n",
    "    'SU': 6,\n",
    "    'CO': 7\n",
    "}\n",
    "\n",
    "LABEL_WORD = {\n",
    "    0: 'NEUTRAL',\n",
    "    1: 'HAPPINESS',\n",
    "    2: 'ANGRY',\n",
    "    3: 'DISGUST',\n",
    "    4: 'FEAR',\n",
    "    5: 'SADNESS',\n",
    "    6: 'SURPRISE',\n",
    "    7: 'CONTEMPT',\n",
    "    -1: 'N/A'\n",
    "}"
   ]
  },
  {
   "cell_type": "code",
   "execution_count": 4,
   "id": "dc868289",
   "metadata": {},
   "outputs": [],
   "source": [
    "IMG_LST = []\n",
    "CODE = ''\n",
    "LABEL = -1\n",
    "DIM = (256, 256)\n",
    "PCA_COMPONENTS = 26"
   ]
  },
  {
   "cell_type": "code",
   "execution_count": 5,
   "id": "641875a6",
   "metadata": {},
   "outputs": [],
   "source": [
    "# detect face\n",
    "face_cascade = cv2.CascadeClassifier(FACE_CASCADE_FILE)"
   ]
  },
  {
   "cell_type": "code",
   "execution_count": 6,
   "id": "34a682a0",
   "metadata": {},
   "outputs": [],
   "source": [
    "# data normalization\n",
    "norm = np.zeros(DIM)"
   ]
  },
  {
   "cell_type": "code",
   "execution_count": 7,
   "id": "ea6772af",
   "metadata": {},
   "outputs": [],
   "source": [
    "# pca\n",
    "ipca = IncrementalPCA(n_components=PCA_COMPONENTS)"
   ]
  },
  {
   "cell_type": "code",
   "execution_count": 8,
   "id": "106fdc49",
   "metadata": {},
   "outputs": [],
   "source": [
    "# data transformation\n",
    "def transform_data(img):\n",
    "    # data reduction - convert to grayscale\n",
    "    img = cv2.cvtColor(img, cv2.COLOR_BGR2GRAY)\n",
    "    \n",
    "    # detect face\n",
    "    face_rect = face_cascade.detectMultiScale(img, 1.1, 5)\n",
    "    img = img[face_rect[0][1]:(face_rect[0][1]+face_rect[0][3]), face_rect[0][0]:(face_rect[0][0]+face_rect[0][2])]\n",
    "\n",
    "    # resize image to 256 by 256 and preserve aspect ratio\n",
    "    img = cv2.resize(img, DIM, interpolation=cv2.INTER_AREA)\n",
    "        \n",
    "    # data normalization\n",
    "    img = cv2.normalize(img, norm, 0, 255, cv2.NORM_MINMAX)\n",
    "        \n",
    "    # data reduction - PCA\n",
    "    img = ipca.inverse_transform(ipca.fit_transform(img))\n",
    "    \n",
    "    return img"
   ]
  },
  {
   "cell_type": "markdown",
   "id": "3db3aa44",
   "metadata": {},
   "source": [
    "### Read and process JAFFE dataset"
   ]
  },
  {
   "cell_type": "code",
   "execution_count": 9,
   "id": "df69ea12",
   "metadata": {},
   "outputs": [],
   "source": [
    "# open jaffe directory, read each image file, and extract label\n",
    "for filename in os.listdir(JAFFE_DIR):\n",
    "    # example of jaffe filename format: KA.AN1.39.tiff\n",
    "    CODE = filename.split('.')[1]\n",
    "    if CODE.startswith('NE'):\n",
    "        LABEL = LABEL_CODE['NE']\n",
    "    elif CODE.startswith('HA'):\n",
    "        LABEL = LABEL_CODE['HA']\n",
    "    elif CODE.startswith('AN'):\n",
    "        LABEL = LABEL_CODE['AN']\n",
    "    elif CODE.startswith('DI'):\n",
    "        LABEL = LABEL_CODE['DI']\n",
    "    elif CODE.startswith('FE'):\n",
    "        LABEL = LABEL_CODE['FE']\n",
    "    elif CODE.startswith('SA'):\n",
    "        LABEL = LABEL_CODE['SA']\n",
    "    elif CODE.startswith('SU'):\n",
    "        LABEL = LABEL_CODE['SU']\n",
    "    elif CODE.startswith('CO'):\n",
    "        LABEL = LABEL_CODE['CO']\n",
    "    else:\n",
    "        LABEL = -1\n",
    "        \n",
    "    # read image\n",
    "    img = cv2.imread(os.path.join(JAFFE_DIR, filename))\n",
    "    \n",
    "    # data tranformation\n",
    "    img = transform_data(img)\n",
    "        \n",
    "    # data augmentation - flipping iamge\n",
    "    # flipping image for neutral expression only because it contains less images\n",
    "    # 1 is for flipping vertical axis only\n",
    "    if CODE.startswith('NE'):\n",
    "        flipped_img = cv2.flip(img, 1)\n",
    "        IMG_LST.append((flipped_img, LABEL))\n",
    "        \n",
    "    # append a tuple (image array at index 0 and label at index 1) into jaffe image list\n",
    "    IMG_LST.append((img, LABEL))"
   ]
  },
  {
   "cell_type": "markdown",
   "id": "3cbb1b1c",
   "metadata": {},
   "source": [
    "### Read and process CK+ dataset"
   ]
  },
  {
   "cell_type": "code",
   "execution_count": 10,
   "id": "d19821ac",
   "metadata": {},
   "outputs": [],
   "source": [
    "# open each emotion directory in ck+ directory, read each image file, and extract label\n",
    "for dirname in os.listdir(CKP_DIR):\n",
    "    # skip hidden directory\n",
    "    if dirname.startswith('.'):\n",
    "        continue\n",
    "    if dirname == 'HA':\n",
    "        LABEL = LABEL_CODE['HA']\n",
    "    elif dirname == 'AN':\n",
    "        LABEL = LABEL_CODE['AN']\n",
    "    elif dirname == 'DI':\n",
    "        LABEL = LABEL_CODE['DI']\n",
    "    elif dirname == 'FE':\n",
    "        LABEL = LABEL_CODE['FE']\n",
    "    elif dirname == 'SA':\n",
    "        LABEL = LABEL_CODE['SA']\n",
    "    elif dirname == 'SU':\n",
    "        LABEL = LABEL_CODE['SU']\n",
    "    elif dirname == 'CO':\n",
    "        LABEL = LABEL_CODE['CO']\n",
    "    else:\n",
    "        LABEL = -1\n",
    "        \n",
    "    for filename in os.listdir(os.path.join(CKP_DIR, dirname)):\n",
    "        # skip hidden file\n",
    "        if filename.startswith('.'):\n",
    "            continue\n",
    "            \n",
    "        # read image\n",
    "        img = cv2.imread(os.path.join(CKP_DIR, dirname, filename))\n",
    "        \n",
    "        # data transformation\n",
    "        img = transform_data(img)\n",
    "        \n",
    "        # data augmentation - flipping iamge\n",
    "        # flipping image for contempt expression only because it contains less images\n",
    "        # 1 is for flipping vertical axis only\n",
    "        if dirname == 'CO':\n",
    "            flipped_img = cv2.flip(img, 1)\n",
    "            IMG_LST.append((flipped_img, LABEL))\n",
    "            \n",
    "        # append a tuple (image array at index 0 and label at index 1) into ckp image list\n",
    "        IMG_LST.append((img, LABEL))"
   ]
  },
  {
   "cell_type": "markdown",
   "id": "b6f6a99d",
   "metadata": {},
   "source": [
    "#### Save the processed image list into a npy file"
   ]
  },
  {
   "cell_type": "code",
   "execution_count": 11,
   "id": "3913438a",
   "metadata": {},
   "outputs": [],
   "source": [
    "dt = np.dtype('object,int')\n",
    "np.save(PROCESSED_DATA_FILE, np.array(IMG_LST, dtype=dt))"
   ]
  }
 ],
 "metadata": {
  "kernelspec": {
   "display_name": "Python 3",
   "language": "python",
   "name": "python3"
  },
  "language_info": {
   "codemirror_mode": {
    "name": "ipython",
    "version": 3
   },
   "file_extension": ".py",
   "mimetype": "text/x-python",
   "name": "python",
   "nbconvert_exporter": "python",
   "pygments_lexer": "ipython3",
   "version": "3.6.10"
  }
 },
 "nbformat": 4,
 "nbformat_minor": 5
}
